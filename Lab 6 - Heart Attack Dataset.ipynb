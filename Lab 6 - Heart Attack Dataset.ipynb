{
  "nbformat": 4,
  "nbformat_minor": 5,
  "metadata": {
    "kernelspec": {
      "display_name": "Python 3 (ipykernel)",
      "language": "python",
      "name": "python3"
    },
    "language_info": {
      "codemirror_mode": {
        "name": "ipython",
        "version": 3
      },
      "file_extension": ".py",
      "mimetype": "text/x-python",
      "name": "python",
      "nbconvert_exporter": "python",
      "pygments_lexer": "ipython3",
      "version": "3.9.7"
    },
    "colab": {
      "name": "Lab 6 - Task - 201800251.ipynb",
      "provenance": [],
      "collapsed_sections": [
        "mk62EVS8tm-p",
        "M4mg6oT-yGSp",
        "R3KdyzYF0SZN",
        "hXEUiRnML_sk",
        "WPj9xPWmR6Yv",
        "JUcDIrNISVz2",
        "ZFUAKDq1VmGS",
        "bqjVq932nHWN",
        "Y3mvipaaJIGZ",
        "4ntDIPm-LLx9",
        "LbIQji4ZKjjO",
        "u8S3ZRockMC1",
        "RO3-jCdU_FOL",
        "Ey3sYI3hLT9u",
        "_mNPuH62jUp1",
        "B0_WkyOThj-c",
        "4y7XZ1Ybg-1h",
        "2qccX3PZSQL7",
        "Ud73oaMxS1Pa",
        "MLRwTeHUTJiI",
        "PPXevn_tZAYN",
        "9jGdcjw369RS",
        "hlmySjtp7HTx",
        "v-NXh_tWZDH1"
      ],
      "include_colab_link": true
    }
  },
  "cells": [
    {
      "cell_type": "markdown",
      "metadata": {
        "id": "view-in-github",
        "colab_type": "text"
      },
      "source": [
        "<a href=\"https://colab.research.google.com/github/ahmedlila/Machine-Learning-Course-Implementations/blob/main/Lab%206%20-%20Heart%20Attack%20Dataset.ipynb\" target=\"_parent\"><img src=\"https://colab.research.google.com/assets/colab-badge.svg\" alt=\"Open In Colab\"/></a>"
      ]
    },
    {
      "cell_type": "markdown",
      "metadata": {
        "id": "L3SZVlNInGx6"
      },
      "source": [
        "![alt text](https://zewailcity.edu.eg/main/images/logo3.png) \n",
        "\n",
        "_Requirements Solved by_  [**Ahmed Lila - 201800251**](mailto:s-ahmedlila@zewailcity.edu.eg) \n"
      ],
      "id": "L3SZVlNInGx6"
    },
    {
      "cell_type": "markdown",
      "metadata": {
        "id": "d44f568a"
      },
      "source": [
        "# Lab 6 Task | Logistic Regression\n",
        "\n",
        "In this task, you'll be working with the heart attack dataset (https://www.kaggle.com/nareshbhat/health-care-data-set-on-heart-attack-possibility) \n",
        "- Propose at least 2 questions about the dataset. (1 mark)\n",
        "- Use visualizations and relations between variables to support your analysis in answering these questions. (4 marks)\n",
        "- Perform any necessary cleaning steps. (2 marks)\n",
        "- Fit a logistic regression model. (1 mark)\n",
        "- Report model performance. (0.5 marks)\n",
        "- Discuss your findings and observations. (1 mark)\n",
        "- Discuss dataset limitations. (0.5 marks)\n",
        "- 2 bonus marks for organized notebooks with detailed analysis and logical flow of conclusions. "
      ],
      "id": "d44f568a"
    },
    {
      "cell_type": "markdown",
      "metadata": {
        "id": "MVEiSMUVoH3J"
      },
      "source": [
        "## About the data"
      ],
      "id": "MVEiSMUVoH3J"
    },
    {
      "cell_type": "markdown",
      "metadata": {
        "id": "U8rsbzd9oLBo"
      },
      "source": [
        "This database contains 76 attributes, but all published experiments refer to using a subset of 14 of them. In particular, the Cleveland database is the only one that has been used by ML researchers to\n",
        "this date.The \"target\" field refers to the presence of heart disease in the patient. It is integer valued 0 = no/less chance of heart attack and 1 = more chance of heart attack\n",
        "\n",
        "**Attribute Information**\n",
        "- Age [age]\n",
        "- Sex [sex]\n",
        "- Chest pain type (4 values) [cp]\n",
        " - Value 1: typical angina (value=3)\n",
        " - Value 2: atypical angina\n",
        " - Value 3: non-anginal pain\n",
        " - Value 4: asymptomatic (normal) [value=0]\n",
        "- Resting blood pressure [trestbps]\n",
        "- Serum cholestoral in mg/dl [chol]\n",
        "- Fasting blood sugar > 120 mg/dl (1 = true; 0 = false) [fbs]\n",
        " - In general: A fasting blood sugar level below 100 milligrams per deciliter (mg/dL) — 5.6 millimoles per liter (mmol/L) — is considered normal. A fasting blood sugar level from 100 to 125 mg/dL (5.6 to 7.0 mmol/L ) is considered prediabetes. This result is sometimes called impaired fasting glucose. [Source](https://www.mayoclinic.org/diseases-conditions/prediabetes/diagnosis-treatment/drc-20355284#:~:text=hours%20or%20overnight.-,In%20general%3A,sometimes%20called%20impaired%20fasting%20glucose.)\n",
        "- Resting electrocardiographic results  [restecg]\n",
        " - Value 0: normal\n",
        " - Value 1: having ST-T wave abnormality (T wave inversions and/or ST elevation or depression of > 0.05 mV)\n",
        " - Value 2: showing probable or definite left ventricular hypertrophy by Estes' criteria\n",
        "- Maximum heart rate achieved [thalach]\n",
        "- Exercise induced angina [exang]\n",
        "- Oldpeak = ST depression induced by exercise relative to rest [oldpeak]\n",
        "- The slope of the peak exercise ST segment [slope]\n",
        " - Value 1: upsloping\n",
        " - Value 2: flat\n",
        " - Value 3: downsloping\n",
        "- Number of major vessels (0-3) colored by flourosopy [ca] (normal=3)\n",
        "- Thal [thal]\n",
        " - 0 = normal;\n",
        " - 1 = fixed defect;\n",
        " - 2 = reversable defect\n",
        "- Target: 0= less chance of heart attack 1= more chance of heart attack"
      ],
      "id": "U8rsbzd9oLBo"
    },
    {
      "cell_type": "markdown",
      "metadata": {
        "id": "AAC2zzxirGM9"
      },
      "source": [
        "## Data Analysis Process"
      ],
      "id": "AAC2zzxirGM9"
    },
    {
      "cell_type": "markdown",
      "metadata": {
        "id": "dQ75FXcWrKAR"
      },
      "source": [
        "![alt text](https://www.researchgate.net/publication/329930775/figure/fig3/AS:873046667710469@1585161954284/The-fundamental-steps-of-the-exploratory-data-analysis-process_W640.jpg) \n"
      ],
      "id": "dQ75FXcWrKAR"
    },
    {
      "cell_type": "markdown",
      "metadata": {
        "id": "4q8JNL9Jr8d3"
      },
      "source": [
        "After doing feature engineering, we start training our data using different models that are compatible with data"
      ],
      "id": "4q8JNL9Jr8d3"
    },
    {
      "cell_type": "markdown",
      "metadata": {
        "id": "mk62EVS8tm-p"
      },
      "source": [
        "## Import Libraries and Dataset "
      ],
      "id": "mk62EVS8tm-p"
    },
    {
      "cell_type": "code",
      "metadata": {
        "id": "lVNs_d0ar8EU"
      },
      "source": [
        "#import needed libraries \n",
        "import pandas as pd\n",
        "import numpy as np\n",
        "import seaborn as sns\n",
        "import matplotlib.pyplot as plt\n",
        "\n",
        "from sklearn.ensemble import ExtraTreesClassifier, RandomForestClassifier\n",
        "from sklearn.tree import DecisionTreeClassifier,ExtraTreeClassifier\n",
        "from sklearn.preprocessing import OneHotEncoder\n",
        "from sklearn.compose import ColumnTransformer\n",
        "\n",
        "from sklearn.linear_model import LinearRegression, Lasso, Ridge, LassoCV, RidgeCV, MultiTaskLassoCV, LassoLarsCV\n",
        "from sklearn import datasets\n",
        "from sklearn import preprocessing\n",
        "from sklearn.model_selection import train_test_split, KFold, cross_val_score, GridSearchCV, LeaveOneOut\n",
        "from sklearn import tree\n",
        "from sklearn.neighbors import KNeighborsClassifier, KNeighborsRegressor\n",
        "from sklearn.linear_model import LogisticRegression\n",
        "from sklearn.metrics import accuracy_score, plot_confusion_matrix\n",
        "from sklearn.preprocessing import PolynomialFeatures\n",
        "\n",
        "from sklearn.metrics import mean_squared_error\n",
        "from sklearn.metrics import r2_score\n",
        "from sklearn.feature_selection import RFE\n"
      ],
      "id": "lVNs_d0ar8EU",
      "execution_count": null,
      "outputs": []
    },
    {
      "cell_type": "code",
      "metadata": {
        "colab": {
          "base_uri": "https://localhost:8080/",
          "height": 206
        },
        "id": "IR3euUM5oKoA",
        "outputId": "417f08bf-3d93-4e3f-9b2e-60c763ac0652"
      },
      "source": [
        "df=pd.read_csv('heart.csv')\n",
        "df.head()"
      ],
      "id": "IR3euUM5oKoA",
      "execution_count": null,
      "outputs": [
        {
          "output_type": "execute_result",
          "data": {
            "text/html": [
              "<div>\n",
              "<style scoped>\n",
              "    .dataframe tbody tr th:only-of-type {\n",
              "        vertical-align: middle;\n",
              "    }\n",
              "\n",
              "    .dataframe tbody tr th {\n",
              "        vertical-align: top;\n",
              "    }\n",
              "\n",
              "    .dataframe thead th {\n",
              "        text-align: right;\n",
              "    }\n",
              "</style>\n",
              "<table border=\"1\" class=\"dataframe\">\n",
              "  <thead>\n",
              "    <tr style=\"text-align: right;\">\n",
              "      <th></th>\n",
              "      <th>age</th>\n",
              "      <th>sex</th>\n",
              "      <th>cp</th>\n",
              "      <th>trestbps</th>\n",
              "      <th>chol</th>\n",
              "      <th>fbs</th>\n",
              "      <th>restecg</th>\n",
              "      <th>thalach</th>\n",
              "      <th>exang</th>\n",
              "      <th>oldpeak</th>\n",
              "      <th>slope</th>\n",
              "      <th>ca</th>\n",
              "      <th>thal</th>\n",
              "      <th>target</th>\n",
              "    </tr>\n",
              "  </thead>\n",
              "  <tbody>\n",
              "    <tr>\n",
              "      <th>0</th>\n",
              "      <td>63</td>\n",
              "      <td>1</td>\n",
              "      <td>3</td>\n",
              "      <td>145</td>\n",
              "      <td>233</td>\n",
              "      <td>1</td>\n",
              "      <td>0</td>\n",
              "      <td>150</td>\n",
              "      <td>0</td>\n",
              "      <td>2.3</td>\n",
              "      <td>0</td>\n",
              "      <td>0</td>\n",
              "      <td>1</td>\n",
              "      <td>1</td>\n",
              "    </tr>\n",
              "    <tr>\n",
              "      <th>1</th>\n",
              "      <td>37</td>\n",
              "      <td>1</td>\n",
              "      <td>2</td>\n",
              "      <td>130</td>\n",
              "      <td>250</td>\n",
              "      <td>0</td>\n",
              "      <td>1</td>\n",
              "      <td>187</td>\n",
              "      <td>0</td>\n",
              "      <td>3.5</td>\n",
              "      <td>0</td>\n",
              "      <td>0</td>\n",
              "      <td>2</td>\n",
              "      <td>1</td>\n",
              "    </tr>\n",
              "    <tr>\n",
              "      <th>2</th>\n",
              "      <td>41</td>\n",
              "      <td>0</td>\n",
              "      <td>1</td>\n",
              "      <td>130</td>\n",
              "      <td>204</td>\n",
              "      <td>0</td>\n",
              "      <td>0</td>\n",
              "      <td>172</td>\n",
              "      <td>0</td>\n",
              "      <td>1.4</td>\n",
              "      <td>2</td>\n",
              "      <td>0</td>\n",
              "      <td>2</td>\n",
              "      <td>1</td>\n",
              "    </tr>\n",
              "    <tr>\n",
              "      <th>3</th>\n",
              "      <td>56</td>\n",
              "      <td>1</td>\n",
              "      <td>1</td>\n",
              "      <td>120</td>\n",
              "      <td>236</td>\n",
              "      <td>0</td>\n",
              "      <td>1</td>\n",
              "      <td>178</td>\n",
              "      <td>0</td>\n",
              "      <td>0.8</td>\n",
              "      <td>2</td>\n",
              "      <td>0</td>\n",
              "      <td>2</td>\n",
              "      <td>1</td>\n",
              "    </tr>\n",
              "    <tr>\n",
              "      <th>4</th>\n",
              "      <td>57</td>\n",
              "      <td>0</td>\n",
              "      <td>0</td>\n",
              "      <td>120</td>\n",
              "      <td>354</td>\n",
              "      <td>0</td>\n",
              "      <td>1</td>\n",
              "      <td>163</td>\n",
              "      <td>1</td>\n",
              "      <td>0.6</td>\n",
              "      <td>2</td>\n",
              "      <td>0</td>\n",
              "      <td>2</td>\n",
              "      <td>1</td>\n",
              "    </tr>\n",
              "  </tbody>\n",
              "</table>\n",
              "</div>"
            ],
            "text/plain": [
              "   age  sex  cp  trestbps  chol  fbs  ...  exang  oldpeak  slope  ca  thal  target\n",
              "0   63    1   3       145   233    1  ...      0      2.3      0   0     1       1\n",
              "1   37    1   2       130   250    0  ...      0      3.5      0   0     2       1\n",
              "2   41    0   1       130   204    0  ...      0      1.4      2   0     2       1\n",
              "3   56    1   1       120   236    0  ...      0      0.8      2   0     2       1\n",
              "4   57    0   0       120   354    0  ...      1      0.6      2   0     2       1\n",
              "\n",
              "[5 rows x 14 columns]"
            ]
          },
          "metadata": {},
          "execution_count": 87
        }
      ]
    },
    {
      "cell_type": "markdown",
      "metadata": {
        "id": "8NGS5cOb1joW"
      },
      "source": [
        "## Research Questions: \n",
        "- Does heart attack only attack the old people?\n",
        "- Does having these syndromes (Exercise induced angina - Maximum heart rate achieved - Chest pain - Number of major vessels) means that the person is suffering from heart attack?\n",
        "- Does heart attack get males more than females?"
      ],
      "id": "8NGS5cOb1joW"
    },
    {
      "cell_type": "markdown",
      "metadata": {
        "id": "M4mg6oT-yGSp"
      },
      "source": [
        "## Exploratory Data Analysis"
      ],
      "id": "M4mg6oT-yGSp"
    },
    {
      "cell_type": "markdown",
      "metadata": {
        "id": "R3KdyzYF0SZN"
      },
      "source": [
        "### 1) Distinguish Attributes"
      ],
      "id": "R3KdyzYF0SZN"
    },
    {
      "cell_type": "code",
      "metadata": {
        "colab": {
          "base_uri": "https://localhost:8080/"
        },
        "id": "KEQSUf-foKqi",
        "outputId": "2a45e62a-f6a4-4848-a3f2-8b283e5553d4"
      },
      "source": [
        "df.info()"
      ],
      "id": "KEQSUf-foKqi",
      "execution_count": null,
      "outputs": [
        {
          "output_type": "stream",
          "name": "stdout",
          "text": [
            "<class 'pandas.core.frame.DataFrame'>\n",
            "RangeIndex: 303 entries, 0 to 302\n",
            "Data columns (total 14 columns):\n",
            " #   Column    Non-Null Count  Dtype  \n",
            "---  ------    --------------  -----  \n",
            " 0   age       303 non-null    int64  \n",
            " 1   sex       303 non-null    int64  \n",
            " 2   cp        303 non-null    int64  \n",
            " 3   trestbps  303 non-null    int64  \n",
            " 4   chol      303 non-null    int64  \n",
            " 5   fbs       303 non-null    int64  \n",
            " 6   restecg   303 non-null    int64  \n",
            " 7   thalach   303 non-null    int64  \n",
            " 8   exang     303 non-null    int64  \n",
            " 9   oldpeak   303 non-null    float64\n",
            " 10  slope     303 non-null    int64  \n",
            " 11  ca        303 non-null    int64  \n",
            " 12  thal      303 non-null    int64  \n",
            " 13  target    303 non-null    int64  \n",
            "dtypes: float64(1), int64(13)\n",
            "memory usage: 33.3 KB\n"
          ]
        }
      ]
    },
    {
      "cell_type": "code",
      "metadata": {
        "id": "f691b952",
        "colab": {
          "base_uri": "https://localhost:8080/",
          "height": 300
        },
        "outputId": "fd863be1-dc55-4a90-895c-bca8c65aac7f"
      },
      "source": [
        "df.describe()"
      ],
      "id": "f691b952",
      "execution_count": null,
      "outputs": [
        {
          "output_type": "execute_result",
          "data": {
            "text/html": [
              "<div>\n",
              "<style scoped>\n",
              "    .dataframe tbody tr th:only-of-type {\n",
              "        vertical-align: middle;\n",
              "    }\n",
              "\n",
              "    .dataframe tbody tr th {\n",
              "        vertical-align: top;\n",
              "    }\n",
              "\n",
              "    .dataframe thead th {\n",
              "        text-align: right;\n",
              "    }\n",
              "</style>\n",
              "<table border=\"1\" class=\"dataframe\">\n",
              "  <thead>\n",
              "    <tr style=\"text-align: right;\">\n",
              "      <th></th>\n",
              "      <th>age</th>\n",
              "      <th>sex</th>\n",
              "      <th>cp</th>\n",
              "      <th>trestbps</th>\n",
              "      <th>chol</th>\n",
              "      <th>fbs</th>\n",
              "      <th>restecg</th>\n",
              "      <th>thalach</th>\n",
              "      <th>exang</th>\n",
              "      <th>oldpeak</th>\n",
              "      <th>slope</th>\n",
              "      <th>ca</th>\n",
              "      <th>thal</th>\n",
              "      <th>target</th>\n",
              "    </tr>\n",
              "  </thead>\n",
              "  <tbody>\n",
              "    <tr>\n",
              "      <th>count</th>\n",
              "      <td>303.000000</td>\n",
              "      <td>303.000000</td>\n",
              "      <td>303.000000</td>\n",
              "      <td>303.000000</td>\n",
              "      <td>303.000000</td>\n",
              "      <td>303.000000</td>\n",
              "      <td>303.000000</td>\n",
              "      <td>303.000000</td>\n",
              "      <td>303.000000</td>\n",
              "      <td>303.000000</td>\n",
              "      <td>303.000000</td>\n",
              "      <td>303.000000</td>\n",
              "      <td>303.000000</td>\n",
              "      <td>303.000000</td>\n",
              "    </tr>\n",
              "    <tr>\n",
              "      <th>mean</th>\n",
              "      <td>54.366337</td>\n",
              "      <td>0.683168</td>\n",
              "      <td>0.966997</td>\n",
              "      <td>131.623762</td>\n",
              "      <td>246.264026</td>\n",
              "      <td>0.148515</td>\n",
              "      <td>0.528053</td>\n",
              "      <td>149.646865</td>\n",
              "      <td>0.326733</td>\n",
              "      <td>1.039604</td>\n",
              "      <td>1.399340</td>\n",
              "      <td>0.729373</td>\n",
              "      <td>2.313531</td>\n",
              "      <td>0.544554</td>\n",
              "    </tr>\n",
              "    <tr>\n",
              "      <th>std</th>\n",
              "      <td>9.082101</td>\n",
              "      <td>0.466011</td>\n",
              "      <td>1.032052</td>\n",
              "      <td>17.538143</td>\n",
              "      <td>51.830751</td>\n",
              "      <td>0.356198</td>\n",
              "      <td>0.525860</td>\n",
              "      <td>22.905161</td>\n",
              "      <td>0.469794</td>\n",
              "      <td>1.161075</td>\n",
              "      <td>0.616226</td>\n",
              "      <td>1.022606</td>\n",
              "      <td>0.612277</td>\n",
              "      <td>0.498835</td>\n",
              "    </tr>\n",
              "    <tr>\n",
              "      <th>min</th>\n",
              "      <td>29.000000</td>\n",
              "      <td>0.000000</td>\n",
              "      <td>0.000000</td>\n",
              "      <td>94.000000</td>\n",
              "      <td>126.000000</td>\n",
              "      <td>0.000000</td>\n",
              "      <td>0.000000</td>\n",
              "      <td>71.000000</td>\n",
              "      <td>0.000000</td>\n",
              "      <td>0.000000</td>\n",
              "      <td>0.000000</td>\n",
              "      <td>0.000000</td>\n",
              "      <td>0.000000</td>\n",
              "      <td>0.000000</td>\n",
              "    </tr>\n",
              "    <tr>\n",
              "      <th>25%</th>\n",
              "      <td>47.500000</td>\n",
              "      <td>0.000000</td>\n",
              "      <td>0.000000</td>\n",
              "      <td>120.000000</td>\n",
              "      <td>211.000000</td>\n",
              "      <td>0.000000</td>\n",
              "      <td>0.000000</td>\n",
              "      <td>133.500000</td>\n",
              "      <td>0.000000</td>\n",
              "      <td>0.000000</td>\n",
              "      <td>1.000000</td>\n",
              "      <td>0.000000</td>\n",
              "      <td>2.000000</td>\n",
              "      <td>0.000000</td>\n",
              "    </tr>\n",
              "    <tr>\n",
              "      <th>50%</th>\n",
              "      <td>55.000000</td>\n",
              "      <td>1.000000</td>\n",
              "      <td>1.000000</td>\n",
              "      <td>130.000000</td>\n",
              "      <td>240.000000</td>\n",
              "      <td>0.000000</td>\n",
              "      <td>1.000000</td>\n",
              "      <td>153.000000</td>\n",
              "      <td>0.000000</td>\n",
              "      <td>0.800000</td>\n",
              "      <td>1.000000</td>\n",
              "      <td>0.000000</td>\n",
              "      <td>2.000000</td>\n",
              "      <td>1.000000</td>\n",
              "    </tr>\n",
              "    <tr>\n",
              "      <th>75%</th>\n",
              "      <td>61.000000</td>\n",
              "      <td>1.000000</td>\n",
              "      <td>2.000000</td>\n",
              "      <td>140.000000</td>\n",
              "      <td>274.500000</td>\n",
              "      <td>0.000000</td>\n",
              "      <td>1.000000</td>\n",
              "      <td>166.000000</td>\n",
              "      <td>1.000000</td>\n",
              "      <td>1.600000</td>\n",
              "      <td>2.000000</td>\n",
              "      <td>1.000000</td>\n",
              "      <td>3.000000</td>\n",
              "      <td>1.000000</td>\n",
              "    </tr>\n",
              "    <tr>\n",
              "      <th>max</th>\n",
              "      <td>77.000000</td>\n",
              "      <td>1.000000</td>\n",
              "      <td>3.000000</td>\n",
              "      <td>200.000000</td>\n",
              "      <td>564.000000</td>\n",
              "      <td>1.000000</td>\n",
              "      <td>2.000000</td>\n",
              "      <td>202.000000</td>\n",
              "      <td>1.000000</td>\n",
              "      <td>6.200000</td>\n",
              "      <td>2.000000</td>\n",
              "      <td>4.000000</td>\n",
              "      <td>3.000000</td>\n",
              "      <td>1.000000</td>\n",
              "    </tr>\n",
              "  </tbody>\n",
              "</table>\n",
              "</div>"
            ],
            "text/plain": [
              "              age         sex          cp  ...          ca        thal      target\n",
              "count  303.000000  303.000000  303.000000  ...  303.000000  303.000000  303.000000\n",
              "mean    54.366337    0.683168    0.966997  ...    0.729373    2.313531    0.544554\n",
              "std      9.082101    0.466011    1.032052  ...    1.022606    0.612277    0.498835\n",
              "min     29.000000    0.000000    0.000000  ...    0.000000    0.000000    0.000000\n",
              "25%     47.500000    0.000000    0.000000  ...    0.000000    2.000000    0.000000\n",
              "50%     55.000000    1.000000    1.000000  ...    0.000000    2.000000    1.000000\n",
              "75%     61.000000    1.000000    2.000000  ...    1.000000    3.000000    1.000000\n",
              "max     77.000000    1.000000    3.000000  ...    4.000000    3.000000    1.000000\n",
              "\n",
              "[8 rows x 14 columns]"
            ]
          },
          "metadata": {},
          "execution_count": 89
        }
      ]
    },
    {
      "cell_type": "markdown",
      "metadata": {
        "id": "hXEUiRnML_sk"
      },
      "source": [
        "### 2) Missing data and Duplicates"
      ],
      "id": "hXEUiRnML_sk"
    },
    {
      "cell_type": "code",
      "metadata": {
        "colab": {
          "base_uri": "https://localhost:8080/"
        },
        "id": "Mni5kGc5uZP6",
        "outputId": "6ed7eb24-2e42-4c9c-f6ae-b2237728935e"
      },
      "source": [
        "#check for missing data, duplicates\n",
        "print('missing values -> {}'.format(df.isna().sum().sum()))\n",
        "print('duplicate values -> {}'.format(df.duplicated().sum()))"
      ],
      "id": "Mni5kGc5uZP6",
      "execution_count": null,
      "outputs": [
        {
          "output_type": "stream",
          "name": "stdout",
          "text": [
            "missing values -> 0\n",
            "duplicate values -> 1\n"
          ]
        }
      ]
    },
    {
      "cell_type": "code",
      "metadata": {
        "colab": {
          "base_uri": "https://localhost:8080/"
        },
        "id": "si95FBWoyOsM",
        "outputId": "6c892d26-8452-499e-bc24-29e18310e749"
      },
      "source": [
        "# Remove Any duplicates or Missing values\n",
        "#CODE\n",
        "df.drop_duplicates(inplace=True)\n",
        "#TEST\n",
        "print('duplicate values -> {}'.format(df.duplicated().sum()))"
      ],
      "id": "si95FBWoyOsM",
      "execution_count": null,
      "outputs": [
        {
          "output_type": "stream",
          "name": "stdout",
          "text": [
            "duplicate values -> 0\n"
          ]
        }
      ]
    },
    {
      "cell_type": "markdown",
      "metadata": {
        "id": "nCgSuCEv0fgp"
      },
      "source": [
        "### 3) Univariate Analysis"
      ],
      "id": "nCgSuCEv0fgp"
    },
    {
      "cell_type": "markdown",
      "metadata": {
        "id": "WPj9xPWmR6Yv"
      },
      "source": [
        "#### A- Is the data balanced?"
      ],
      "id": "WPj9xPWmR6Yv"
    },
    {
      "cell_type": "code",
      "metadata": {
        "colab": {
          "base_uri": "https://localhost:8080/",
          "height": 264
        },
        "id": "4JTIX4xXSVPC",
        "outputId": "31ed7839-24aa-45b7-fd5f-d755dc985b21"
      },
      "source": [
        "plt.pie(df['target'].value_counts(), explode = [0.2, 0], shadow = True, autopct='%.0f%%', pctdistance=0.5, labeldistance=1.2)\n",
        "plt.title('Target Variable [People who has heart attack]')\n",
        "plt.show() "
      ],
      "id": "4JTIX4xXSVPC",
      "execution_count": null,
      "outputs": [
        {
          "output_type": "display_data",
          "data": {
            "image/png": "[encoded data removed]",
            "text/plain": [
              "<Figure size 432x288 with 1 Axes>"
            ]
          },
          "metadata": {}
        }
      ]
    },
    {
      "cell_type": "markdown",
      "metadata": {
        "id": "ncZ9QDs5VBW-"
      },
      "source": [
        "*Yes, 54 and 46 makes our data almost balanced*"
      ],
      "id": "ncZ9QDs5VBW-"
    },
    {
      "cell_type": "markdown",
      "metadata": {
        "id": "JUcDIrNISVz2"
      },
      "source": [
        "#### B- Q1: Does heart attack only attack old people?"
      ],
      "id": "JUcDIrNISVz2"
    },
    {
      "cell_type": "code",
      "metadata": {
        "colab": {
          "base_uri": "https://localhost:8080/",
          "height": 279
        },
        "id": "ZPfOUJMdCarv",
        "outputId": "f1d9a9f8-4d05-4fca-d85a-babe3513502b"
      },
      "source": [
        "# Age distribution in dataset\n",
        "sns.histplot( df['age'],bins=20, color='#FA8072', alpha=0.7,edgecolor='black', linewidth=1, kde=True, stat=\"density\" );"
      ],
      "id": "ZPfOUJMdCarv",
      "execution_count": null,
      "outputs": [
        {
          "output_type": "display_data",
          "data": {
            "image/png": "[encoded data removed]",
            "text/plain": [
              "<Figure size 432x288 with 1 Axes>"
            ]
          },
          "metadata": {
            "needs_background": "light"
          }
        }
      ]
    },
    {
      "cell_type": "code",
      "metadata": {
        "colab": {
          "base_uri": "https://localhost:8080/"
        },
        "id": "B2YSucf7Dcls",
        "outputId": "58b2fa13-f924-4782-de28-fd34e7e996fc"
      },
      "source": [
        "#Average, Mode, and Median \n",
        "print(\"Mean of age= {}, Median of age= {}, Mode of age= {}\" .format(np.round(df['age'].mean(),2), np.round(df['age'].median(),2),int(np.round(df['age'].mode(),2))))"
      ],
      "id": "B2YSucf7Dcls",
      "execution_count": null,
      "outputs": [
        {
          "output_type": "stream",
          "name": "stdout",
          "text": [
            "Mean of age= 54.42, Median of age= 55.5, Mode of age= 58\n"
          ]
        }
      ]
    },
    {
      "cell_type": "code",
      "metadata": {
        "colab": {
          "base_uri": "https://localhost:8080/",
          "height": 279
        },
        "id": "ZFh2-cQq29D_",
        "outputId": "2c372fdd-3427-494a-cc49-a57b4a907242"
      },
      "source": [
        "sns.boxplot(x='target',y='age',data=df, palette='Set2');"
      ],
      "id": "ZFh2-cQq29D_",
      "execution_count": null,
      "outputs": [
        {
          "output_type": "display_data",
          "data": {
            "image/png": "[encoded data removed]",
            "text/plain": [
              "<Figure size 432x288 with 1 Axes>"
            ]
          },
          "metadata": {
            "needs_background": "light"
          }
        }
      ]
    },
    {
      "cell_type": "markdown",
      "metadata": {
        "id": "Toj0Te8JQQRj"
      },
      "source": [
        "From the above plot, it's shown that age has not an effect on having heart attack as they're mutual portion between who have and who haven't "
      ],
      "id": "Toj0Te8JQQRj"
    },
    {
      "cell_type": "markdown",
      "metadata": {
        "id": "Kb9hweGjDt1k"
      },
      "source": [
        "The age don't necessarily affect people to have heart attack"
      ],
      "id": "Kb9hweGjDt1k"
    },
    {
      "cell_type": "markdown",
      "metadata": {
        "id": "ZFUAKDq1VmGS"
      },
      "source": [
        "#### C- Q2: Does heart attack get males more than females?"
      ],
      "id": "ZFUAKDq1VmGS"
    },
    {
      "cell_type": "markdown",
      "metadata": {
        "id": "cFubXHpDbcFD"
      },
      "source": [
        "Males and females distribution"
      ],
      "id": "cFubXHpDbcFD"
    },
    {
      "cell_type": "code",
      "metadata": {
        "colab": {
          "base_uri": "https://localhost:8080/",
          "height": 279
        },
        "id": "4o_juuJRbfwD",
        "outputId": "0d48b469-5986-4a65-abad-45cb574e1a7a"
      },
      "source": [
        "# the information collected from men are twice information collected from women\n",
        "sns.countplot(x='sex',data=df, palette='Set2', linewidth=0.5, edgecolor='black');"
      ],
      "id": "4o_juuJRbfwD",
      "execution_count": null,
      "outputs": [
        {
          "output_type": "display_data",
          "data": {
            "image/png": "[encoded data removed]",
            "text/plain": [
              "<Figure size 432x288 with 1 Axes>"
            ]
          },
          "metadata": {
            "needs_background": "light"
          }
        }
      ]
    },
    {
      "cell_type": "markdown",
      "metadata": {
        "id": "6JfCdZAkdZZR"
      },
      "source": [
        "As we already have collected a biased data to a specific gender, we would try to separate them. Then, We'll try to get each gender as percentage if it has heart attack or not "
      ],
      "id": "6JfCdZAkdZZR"
    },
    {
      "cell_type": "code",
      "metadata": {
        "colab": {
          "base_uri": "https://localhost:8080/",
          "height": 279
        },
        "id": "wNwHXNh8g4yD",
        "outputId": "080cc71b-adbd-4b26-b717-249f7509fd46"
      },
      "source": [
        "sns.countplot(x='sex',hue='target',data=df, palette='Set2', linewidth=0.5, edgecolor='black');"
      ],
      "id": "wNwHXNh8g4yD",
      "execution_count": null,
      "outputs": [
        {
          "output_type": "display_data",
          "data": {
            "image/png": "[encoded data removed]",
            "text/plain": [
              "<Figure size 432x288 with 1 Axes>"
            ]
          },
          "metadata": {
            "needs_background": "light"
          }
        }
      ]
    },
    {
      "cell_type": "code",
      "metadata": {
        "id": "NLEnZ_0CcDNT"
      },
      "source": [
        "sex_values= df.sex.value_counts()\n",
        "male_ha= 100*df[df['sex']==1].target.value_counts()/sex_values[1] #Percentage of men who are having heart attack\n",
        "female_ha= 100*df[df['sex']==0].target.value_counts()/sex_values[0] #Percentage of women who are having heart attack"
      ],
      "id": "NLEnZ_0CcDNT",
      "execution_count": null,
      "outputs": []
    },
    {
      "cell_type": "code",
      "metadata": {
        "colab": {
          "base_uri": "https://localhost:8080/",
          "height": 366
        },
        "id": "50MA5BT6fHwX",
        "outputId": "24b6182b-1c92-418c-9939-329d760ca06e"
      },
      "source": [
        "data = [male_ha, female_ha]\n",
        "fig = plt.figure()\n",
        "ax = fig.add_axes([0,0,1,1])\n",
        "ax.bar(df.target.unique()-0.15, data[0], color = '#8FB9AA', width = 0.3);\n",
        "ax.bar(df.target.unique()+0.15, data[1], color = '#ED8975', width = 0.3);\n",
        "ax.legend(['Men', 'Women']);\n",
        "plt.xlabel('Have Heart Attack')\n",
        "plt.ylabel('Percentage')\n",
        "plt.title('Men Vs Women who have heart attack [percentages]')\n",
        "plt.show()"
      ],
      "id": "50MA5BT6fHwX",
      "execution_count": null,
      "outputs": [
        {
          "output_type": "display_data",
          "data": {
            "image/png": "[encoded data removed]",
            "text/plain": [
              "<Figure size 432x288 with 1 Axes>"
            ]
          },
          "metadata": {
            "needs_background": "light"
          }
        }
      ]
    },
    {
      "cell_type": "markdown",
      "metadata": {
        "id": "X1o5YS9nmshg"
      },
      "source": [
        "Observation: Females are susceptible to get a heart attack than males"
      ],
      "id": "X1o5YS9nmshg"
    },
    {
      "cell_type": "markdown",
      "metadata": {
        "id": "bqjVq932nHWN"
      },
      "source": [
        "#### D- Q3: Does having these syndromes (Exercise induced angina - Maximum heart rate achieved - Chest pain - Number of major vessels) means that the person is susceptible to get a heart attack?"
      ],
      "id": "bqjVq932nHWN"
    },
    {
      "cell_type": "code",
      "metadata": {
        "colab": {
          "base_uri": "https://localhost:8080/"
        },
        "id": "NsO3XoVRytJb",
        "outputId": "52359721-9c63-4f29-8068-eac5ad364ac2"
      },
      "source": [
        "df.exang.value_counts()"
      ],
      "id": "NsO3XoVRytJb",
      "execution_count": null,
      "outputs": [
        {
          "output_type": "execute_result",
          "data": {
            "text/plain": [
              "0    203\n",
              "1     99\n",
              "Name: exang, dtype: int64"
            ]
          },
          "metadata": {},
          "execution_count": 100
        }
      ]
    },
    {
      "cell_type": "code",
      "metadata": {
        "colab": {
          "base_uri": "https://localhost:8080/",
          "height": 279
        },
        "id": "Um9tVi8nnOLi",
        "outputId": "c3036dbc-5c70-4a53-95aa-35129a201ce4"
      },
      "source": [
        "# Will use this feature later\n",
        "#Inversely Propotional to (Exercise induced angina - Number of major vessels )\n",
        "#Propotional to (Maximum heart rate achieved - Chest pain)\n",
        "heart_syndromes=-df['exang']-df['ca']+(df['cp']/df['cp'].max())+ (df['thalach']/df['thalach'].max())\n",
        "sns.boxplot(x=df['target'],y=heart_syndromes, palette='Set2');"
      ],
      "id": "Um9tVi8nnOLi",
      "execution_count": null,
      "outputs": [
        {
          "output_type": "display_data",
          "data": {
            "image/png": "[encoded data removed]",
            "text/plain": [
              "<Figure size 432x288 with 1 Axes>"
            ]
          },
          "metadata": {
            "needs_background": "light"
          }
        }
      ]
    },
    {
      "cell_type": "markdown",
      "metadata": {
        "id": "0i4BstjBqfBX"
      },
      "source": [
        "This box plot shows that gethering those 4 major features is a good indicator, where: \n",
        "- The less (excercise exerted - number of major vessels) than normal person,  the person is more susceptible to have a heart attack [Inversely Propotional]\n",
        "- The more (Maximum heart rate achieved - Chest pain) than normal person,  the person is more susceptible to have a heart attack [Propotional]\n"
      ],
      "id": "0i4BstjBqfBX"
    },
    {
      "cell_type": "markdown",
      "metadata": {
        "id": "Y3mvipaaJIGZ"
      },
      "source": [
        "## Feature Engineering "
      ],
      "id": "Y3mvipaaJIGZ"
    },
    {
      "cell_type": "markdown",
      "metadata": {
        "id": "MomUe3yNH2E4"
      },
      "source": [
        "- Feature Selection\n",
        " - Identify data attributes\n",
        " - Filter irrelevant and redundant attributes\n",
        "- Feature Creation\n",
        " - Existing data points into new features (Making sure to avoid collinearity)\n",
        " - Infer new attributes\n",
        "\n",
        "- Feature Transformation\n",
        " - Impute missing feature values: Fortunately, data have no missing values\n",
        " - Scale numerical features: there are some features range from 0:155 and others from 0:4, all features don't have same minimum maximum value."
      ],
      "id": "MomUe3yNH2E4"
    },
    {
      "cell_type": "markdown",
      "metadata": {
        "id": "4ntDIPm-LLx9"
      },
      "source": [
        "### 1) Feature Selection"
      ],
      "id": "4ntDIPm-LLx9"
    },
    {
      "cell_type": "code",
      "metadata": {
        "colab": {
          "base_uri": "https://localhost:8080/"
        },
        "id": "FonC1fhiIvyj",
        "outputId": "2dbdcbfb-2aef-424d-a5f3-cba10934c683"
      },
      "source": [
        "####### Identify data attributes #######\n",
        "df.info()"
      ],
      "id": "FonC1fhiIvyj",
      "execution_count": null,
      "outputs": [
        {
          "output_type": "stream",
          "name": "stdout",
          "text": [
            "<class 'pandas.core.frame.DataFrame'>\n",
            "Int64Index: 302 entries, 0 to 302\n",
            "Data columns (total 14 columns):\n",
            " #   Column    Non-Null Count  Dtype  \n",
            "---  ------    --------------  -----  \n",
            " 0   age       302 non-null    int64  \n",
            " 1   sex       302 non-null    int64  \n",
            " 2   cp        302 non-null    int64  \n",
            " 3   trestbps  302 non-null    int64  \n",
            " 4   chol      302 non-null    int64  \n",
            " 5   fbs       302 non-null    int64  \n",
            " 6   restecg   302 non-null    int64  \n",
            " 7   thalach   302 non-null    int64  \n",
            " 8   exang     302 non-null    int64  \n",
            " 9   oldpeak   302 non-null    float64\n",
            " 10  slope     302 non-null    int64  \n",
            " 11  ca        302 non-null    int64  \n",
            " 12  thal      302 non-null    int64  \n",
            " 13  target    302 non-null    int64  \n",
            "dtypes: float64(1), int64(13)\n",
            "memory usage: 45.4 KB\n"
          ]
        }
      ]
    },
    {
      "cell_type": "code",
      "metadata": {
        "colab": {
          "base_uri": "https://localhost:8080/"
        },
        "id": "I2shS4pg5KIp",
        "outputId": "059b98f7-545b-4199-f9df-76f7b7904bfd"
      },
      "source": [
        "#heatmap for different features\n",
        "fig, ax = plt.subplots(figsize=(15,5))         # Sample figsize in inches\n",
        "sns.heatmap(df.corr(), annot = True, ax=ax, cmap=\"RdPu\");\n",
        "plt.title('Correlation between the variables')\n",
        "plt.xticks(rotation=45);"
      ],
      "id": "I2shS4pg5KIp",
      "execution_count": null,
      "outputs": [
        {
          "output_type": "display_data",
          "data": {
            "image/png": "[encoded data removed]",
            "text/plain": [
              "<Figure size 1080x360 with 2 Axes>"
            ]
          },
          "metadata": {
            "needs_background": "light"
          }
        }
      ]
    },
    {
      "cell_type": "code",
      "metadata": {
        "colab": {
          "base_uri": "https://localhost:8080/"
        },
        "id": "FQDHZIC2I-ls",
        "outputId": "c67ece7d-c87f-4859-e956-3ca199338cb0"
      },
      "source": [
        "#CODE\n",
        "correlation_matrix = df.corr().round(2)\n",
        "#TEST\n",
        "correlation_matrix.target.sort_values()"
      ],
      "id": "FQDHZIC2I-ls",
      "execution_count": null,
      "outputs": [
        {
          "output_type": "execute_result",
          "data": {
            "text/plain": [
              "exang      -0.44\n",
              "oldpeak    -0.43\n",
              "ca         -0.41\n",
              "thal       -0.34\n",
              "sex        -0.28\n",
              "age        -0.22\n",
              "trestbps   -0.15\n",
              "chol       -0.08\n",
              "fbs        -0.03\n",
              "restecg     0.13\n",
              "slope       0.34\n",
              "thalach     0.42\n",
              "cp          0.43\n",
              "target      1.00\n",
              "Name: target, dtype: float64"
            ]
          },
          "metadata": {},
          "execution_count": 104
        }
      ]
    },
    {
      "cell_type": "code",
      "metadata": {
        "colab": {
          "base_uri": "https://localhost:8080/"
        },
        "id": "a9NSMUkuJOr1",
        "outputId": "113b2e1b-3d85-4d05-938b-294508329a55"
      },
      "source": [
        "####### Filter irrelevant and redundant attributes #######\n",
        "# CODE\n",
        "df.drop(columns=['age',\t'sex', 'trestbps',\t'chol',\t'fbs',\t'restecg', 'thal'], inplace=True)\n",
        "#TEST\n",
        "df.head()"
      ],
      "id": "a9NSMUkuJOr1",
      "execution_count": null,
      "outputs": [
        {
          "output_type": "execute_result",
          "data": {
            "text/html": [
              "<div>\n",
              "<style scoped>\n",
              "    .dataframe tbody tr th:only-of-type {\n",
              "        vertical-align: middle;\n",
              "    }\n",
              "\n",
              "    .dataframe tbody tr th {\n",
              "        vertical-align: top;\n",
              "    }\n",
              "\n",
              "    .dataframe thead th {\n",
              "        text-align: right;\n",
              "    }\n",
              "</style>\n",
              "<table border=\"1\" class=\"dataframe\">\n",
              "  <thead>\n",
              "    <tr style=\"text-align: right;\">\n",
              "      <th></th>\n",
              "      <th>cp</th>\n",
              "      <th>thalach</th>\n",
              "      <th>exang</th>\n",
              "      <th>oldpeak</th>\n",
              "      <th>slope</th>\n",
              "      <th>ca</th>\n",
              "      <th>target</th>\n",
              "    </tr>\n",
              "  </thead>\n",
              "  <tbody>\n",
              "    <tr>\n",
              "      <th>0</th>\n",
              "      <td>3</td>\n",
              "      <td>150</td>\n",
              "      <td>0</td>\n",
              "      <td>2.3</td>\n",
              "      <td>0</td>\n",
              "      <td>0</td>\n",
              "      <td>1</td>\n",
              "    </tr>\n",
              "    <tr>\n",
              "      <th>1</th>\n",
              "      <td>2</td>\n",
              "      <td>187</td>\n",
              "      <td>0</td>\n",
              "      <td>3.5</td>\n",
              "      <td>0</td>\n",
              "      <td>0</td>\n",
              "      <td>1</td>\n",
              "    </tr>\n",
              "    <tr>\n",
              "      <th>2</th>\n",
              "      <td>1</td>\n",
              "      <td>172</td>\n",
              "      <td>0</td>\n",
              "      <td>1.4</td>\n",
              "      <td>2</td>\n",
              "      <td>0</td>\n",
              "      <td>1</td>\n",
              "    </tr>\n",
              "    <tr>\n",
              "      <th>3</th>\n",
              "      <td>1</td>\n",
              "      <td>178</td>\n",
              "      <td>0</td>\n",
              "      <td>0.8</td>\n",
              "      <td>2</td>\n",
              "      <td>0</td>\n",
              "      <td>1</td>\n",
              "    </tr>\n",
              "    <tr>\n",
              "      <th>4</th>\n",
              "      <td>0</td>\n",
              "      <td>163</td>\n",
              "      <td>1</td>\n",
              "      <td>0.6</td>\n",
              "      <td>2</td>\n",
              "      <td>0</td>\n",
              "      <td>1</td>\n",
              "    </tr>\n",
              "  </tbody>\n",
              "</table>\n",
              "</div>"
            ],
            "text/plain": [
              "   cp  thalach  exang  oldpeak  slope  ca  target\n",
              "0   3      150      0      2.3      0   0       1\n",
              "1   2      187      0      3.5      0   0       1\n",
              "2   1      172      0      1.4      2   0       1\n",
              "3   1      178      0      0.8      2   0       1\n",
              "4   0      163      1      0.6      2   0       1"
            ]
          },
          "metadata": {},
          "execution_count": 105
        }
      ]
    },
    {
      "cell_type": "markdown",
      "metadata": {
        "id": "LbIQji4ZKjjO"
      },
      "source": [
        "## Training/Testing Models"
      ],
      "id": "LbIQji4ZKjjO"
    },
    {
      "cell_type": "markdown",
      "metadata": {
        "id": "u8S3ZRockMC1"
      },
      "source": [
        "### 1) Train Models on basic data\n",
        " [no feature creation or transformation]"
      ],
      "id": "u8S3ZRockMC1"
    },
    {
      "cell_type": "code",
      "metadata": {
        "id": "RkbK3GEcKmK9"
      },
      "source": [
        "X = df.drop('target',axis=1)\n",
        "y = df['target']\n",
        "X_train, X_test, y_train, y_test = train_test_split(X, y, test_size = 0.2, random_state = 20, shuffle=True)"
      ],
      "id": "RkbK3GEcKmK9",
      "execution_count": null,
      "outputs": []
    },
    {
      "cell_type": "markdown",
      "metadata": {
        "id": "D448IHQBLUIt"
      },
      "source": [
        "#### A- Cross Validation Models"
      ],
      "id": "D448IHQBLUIt"
    },
    {
      "cell_type": "markdown",
      "metadata": {
        "id": "Qdrx52Q1VG28"
      },
      "source": [
        "\n",
        "<img src=\"https://scikit-learn.org/stable/_images/grid_search_workflow.png\" width=\"500\">\n"
      ],
      "id": "Qdrx52Q1VG28"
    },
    {
      "cell_type": "code",
      "metadata": {
        "id": "HgAY1sA4DwXV"
      },
      "source": [
        "def cross_val_models(X_train, y_train, cv_model):\n",
        "  cv=5\n",
        "  if cv_model=='loocv':\n",
        "    cv=LeaveOneOut()\n",
        "  ############################## MODELS ##############################\n",
        "  #I - KNN\n",
        "  clf = KNeighborsClassifier()\n",
        "  scores1 = cross_val_score(clf, X_train, y_train, cv=cv) #notice the difference\n",
        "  avg_score1= np.round(scores1.mean()*100,2)\n",
        "\n",
        "  #II - DecisionTreeClassifier\n",
        "  clf = DecisionTreeClassifier()\n",
        "  scores2 = cross_val_score(clf, X_train, y_train, cv=cv)\n",
        "  avg_score2= np.round(scores2.mean()*100,2)\n",
        "\n",
        "\n",
        "  #III - ExtraTreeClassifier\n",
        "  clf = ExtraTreeClassifier()\n",
        "  scores4 = cross_val_score(clf, X_train, y_train,cv=cv)\n",
        "  avg_score4= np.round(scores4.mean()*100,2)\n",
        "\n",
        "  #IV - LogisticRegression\n",
        "  clf = LogisticRegression(solver = 'liblinear')\n",
        "  scores5 = cross_val_score(clf, X_train, y_train, cv=cv)\n",
        "  avg_score5= np.round(scores5.mean()*100,2)\n",
        "\n",
        "  #V - RandomForestClassifier\n",
        "  clf = RandomForestClassifier()\n",
        "  scores6 = cross_val_score(clf, X_train, y_train,cv=cv)\n",
        "  avg_score6= np.round(scores6.mean()*100,2)\n",
        "\n",
        "  ######################### Pretty Table #############################\n",
        "  data=[['KNeighborsClassifier', avg_score1],['DecisionTreeClassifier', avg_score2],['ExtraTreeClassifier', avg_score4],['LogisticRegression', avg_score5],['RandomForestClassifier', avg_score6]]\n",
        "  kfolds_models=pd.DataFrame(data,columns=['Model', 'Average Accuracy'])\n",
        "  return kfolds_models.sort_values([\"Average Accuracy\"], ascending=False, ignore_index=True)"
      ],
      "id": "HgAY1sA4DwXV",
      "execution_count": null,
      "outputs": []
    },
    {
      "cell_type": "code",
      "metadata": {
        "colab": {
          "base_uri": "https://localhost:8080/",
          "height": 206
        },
        "id": "k4eWzfzlLvg6",
        "outputId": "e8038a1c-22e7-4740-e039-7b733885ae80"
      },
      "source": [
        "# 5 Folds - default\n",
        "cross_val_models(X_train,y_train, cv_model=5)"
      ],
      "id": "k4eWzfzlLvg6",
      "execution_count": null,
      "outputs": [
        {
          "output_type": "execute_result",
          "data": {
            "text/html": [
              "<div>\n",
              "<style scoped>\n",
              "    .dataframe tbody tr th:only-of-type {\n",
              "        vertical-align: middle;\n",
              "    }\n",
              "\n",
              "    .dataframe tbody tr th {\n",
              "        vertical-align: top;\n",
              "    }\n",
              "\n",
              "    .dataframe thead th {\n",
              "        text-align: right;\n",
              "    }\n",
              "</style>\n",
              "<table border=\"1\" class=\"dataframe\">\n",
              "  <thead>\n",
              "    <tr style=\"text-align: right;\">\n",
              "      <th></th>\n",
              "      <th>Model</th>\n",
              "      <th>Average Accuracy</th>\n",
              "    </tr>\n",
              "  </thead>\n",
              "  <tbody>\n",
              "    <tr>\n",
              "      <th>0</th>\n",
              "      <td>LogisticRegression</td>\n",
              "      <td>81.73</td>\n",
              "    </tr>\n",
              "    <tr>\n",
              "      <th>1</th>\n",
              "      <td>RandomForestClassifier</td>\n",
              "      <td>80.89</td>\n",
              "    </tr>\n",
              "    <tr>\n",
              "      <th>2</th>\n",
              "      <td>DecisionTreeClassifier</td>\n",
              "      <td>75.09</td>\n",
              "    </tr>\n",
              "    <tr>\n",
              "      <th>3</th>\n",
              "      <td>ExtraTreeClassifier</td>\n",
              "      <td>73.43</td>\n",
              "    </tr>\n",
              "    <tr>\n",
              "      <th>4</th>\n",
              "      <td>KNeighborsClassifier</td>\n",
              "      <td>70.10</td>\n",
              "    </tr>\n",
              "  </tbody>\n",
              "</table>\n",
              "</div>"
            ],
            "text/plain": [
              "                    Model  Average Accuracy\n",
              "0      LogisticRegression             81.73\n",
              "1  RandomForestClassifier             80.89\n",
              "2  DecisionTreeClassifier             75.09\n",
              "3     ExtraTreeClassifier             73.43\n",
              "4    KNeighborsClassifier             70.10"
            ]
          },
          "metadata": {},
          "execution_count": 108
        }
      ]
    },
    {
      "cell_type": "markdown",
      "metadata": {
        "id": "RO3-jCdU_FOL"
      },
      "source": [
        "### 2) Feature Engineering and Retrain data"
      ],
      "id": "RO3-jCdU_FOL"
    },
    {
      "cell_type": "markdown",
      "metadata": {
        "id": "Ey3sYI3hLT9u"
      },
      "source": [
        "#### Feature Transformation and Creation"
      ],
      "id": "Ey3sYI3hLT9u"
    },
    {
      "cell_type": "markdown",
      "metadata": {
        "id": "un4nkp5xPkEs"
      },
      "source": [
        "Normalization"
      ],
      "id": "un4nkp5xPkEs"
    },
    {
      "cell_type": "code",
      "metadata": {
        "colab": {
          "base_uri": "https://localhost:8080/"
        },
        "id": "MDbvBMKISR3r",
        "outputId": "133e3eef-9b84-4a41-8ba2-4dd4c06e9333"
      },
      "source": [
        "df.columns"
      ],
      "id": "MDbvBMKISR3r",
      "execution_count": null,
      "outputs": [
        {
          "output_type": "execute_result",
          "data": {
            "text/plain": [
              "Index(['cp', 'thalach', 'exang', 'oldpeak', 'slope', 'ca', 'target'], dtype='object')"
            ]
          },
          "metadata": {},
          "execution_count": 109
        }
      ]
    },
    {
      "cell_type": "code",
      "metadata": {
        "id": "o2fpr2rX5dNO"
      },
      "source": [
        "scaler = preprocessing.MinMaxScaler()\n",
        "#fit on training only, the min/max here may be the min/max of the whole dataset\n",
        "scaler.fit(X_train)\n",
        "X_train_normalized = pd.DataFrame(scaler.transform(X_train), columns=df.columns[0:6])\n",
        "X_test_normalized =  pd.DataFrame(scaler.transform(X_test), columns=df.columns[0:6])\n"
      ],
      "id": "o2fpr2rX5dNO",
      "execution_count": null,
      "outputs": []
    },
    {
      "cell_type": "code",
      "metadata": {
        "colab": {
          "base_uri": "https://localhost:8080/"
        },
        "id": "VyWqoYngPdiZ",
        "outputId": "06b99160-dad6-4676-cd66-a6fd76eb97fe"
      },
      "source": [
        "#TEST\n",
        "model = LogisticRegression(solver = 'liblinear')\n",
        "model.fit(X_train_normalized,y_train)\n",
        "predictions = model.predict(X_test_normalized)\n",
        "acc = accuracy_score(y_test, predictions)\n",
        "print('Accuracy of Logistic Regression = {}%'.format(np.round(acc*100,2)))"
      ],
      "id": "VyWqoYngPdiZ",
      "execution_count": null,
      "outputs": [
        {
          "output_type": "stream",
          "name": "stdout",
          "text": [
            "Accuracy of Logistic Regression = 77.05%\n"
          ]
        }
      ]
    },
    {
      "cell_type": "markdown",
      "metadata": {
        "id": "_mNPuH62jUp1"
      },
      "source": [
        "### 3) Compare Models Accuracy"
      ],
      "id": "_mNPuH62jUp1"
    },
    {
      "cell_type": "markdown",
      "metadata": {
        "id": "8FpPj8cNToVv"
      },
      "source": [
        "Adding new features and trying different models accuracy on 1000 iterations"
      ],
      "id": "8FpPj8cNToVv"
    },
    {
      "cell_type": "code",
      "metadata": {
        "id": "oi1ygSwBYJsu"
      },
      "source": [
        "knn_scores, dtree_scores, extratree_scores, rf_scores, log_scores= [], [], [], [], []\n",
        "for i in range(1000):\n",
        "  X_train, X_test, y_train, y_test = train_test_split(X, y, test_size = 0.2, random_state = i, shuffle=True)\n",
        "  #Adding New features: it connects the propotional and inversely propotional indicators in one feature\n",
        "  X_train['heart_problems']=-X_train['exang']-(X_train['ca']/X_train['ca'].max())-2.5*(X_train['oldpeak']/X_train['oldpeak'].max())+(X_train['cp']/X_train['cp'].max())+(X_train['thalach']/X_train['thalach'].max())+(X_train['slope']/X_train['slope'].max())\n",
        "  X_test['heart_problems']=-X_test['exang']-(X_test['ca']/X_train['ca'].max())-2.5*(X_test['oldpeak']/X_train['oldpeak'].max())+(X_test['cp']/X_train['cp'].max())+(X_test['thalach']/X_train['thalach'].max())+(X_test['slope']/X_train['slope'].max())\n",
        "  # To avoid collinearity, we're deleting features that we've used in heart_problem new feature\n",
        "  collinear_cols=['exang', 'ca','cp', 'slope', 'thalach', 'oldpeak'] \n",
        "  X_train.drop(columns=collinear_cols,inplace=True)\n",
        "  X_test.drop(columns=collinear_cols,inplace=True)\n",
        "  ####################### MODELS - After Feature Creation #######################\n",
        "  # I - KNN\n",
        "  knn = KNeighborsClassifier()\n",
        "  knn.fit(X_train,y_train)\n",
        "  predictions = knn.predict(X_test)\n",
        "  acc = accuracy_score(y_test, predictions)\n",
        "  knn_score=np.round(acc*100,2)\n",
        "  knn_scores.append(knn_score)\n",
        "\n",
        "  # II - DecisionTreeClassifier\n",
        "  dtree = DecisionTreeClassifier()\n",
        "  dtree.fit(X_train,y_train)\n",
        "  predictions = dtree.predict(X_test)\n",
        "  acc = accuracy_score(y_test, predictions)\n",
        "  dtree_score=np.round(acc*100,2)\n",
        "  dtree_scores.append(dtree_score)\n",
        "\n",
        "  # III - ExtraTreeClassifier\n",
        "  extratree = ExtraTreeClassifier()\n",
        "  extratree.fit(X_train,y_train)\n",
        "  predictions = extratree.predict(X_test)\n",
        "  acc = accuracy_score(y_test, predictions)\n",
        "  extratree_score=np.round(acc*100,2)\n",
        "  extratree_scores.append(extratree_score)\n",
        "\n",
        "  # IV - RandomForestClassifier\n",
        "  rf = RandomForestClassifier()\n",
        "  rf.fit(X_train,y_train)\n",
        "  predictions = rf.predict(X_test)\n",
        "  acc = accuracy_score(y_test, predictions)\n",
        "  rf_score=np.round(acc*100,2)\n",
        "  rf_scores.append(rf_score)\n",
        "\n",
        "  # V - Logistic Regression\n",
        "  log = LogisticRegression(solver = 'liblinear')\n",
        "  log.fit(X_train,y_train)\n",
        "  predictions = log.predict(X_test)\n",
        "  acc = accuracy_score(y_test, predictions)\n",
        "  log_score=np.round(acc*100,2)\n",
        "  log_scores.append(log_score)"
      ],
      "id": "oi1ygSwBYJsu",
      "execution_count": null,
      "outputs": []
    },
    {
      "cell_type": "markdown",
      "metadata": {
        "id": "B0_WkyOThj-c"
      },
      "source": [
        "#### Logistic Regression:"
      ],
      "id": "B0_WkyOThj-c"
    },
    {
      "cell_type": "code",
      "metadata": {
        "colab": {
          "base_uri": "https://localhost:8080/",
          "height": 265
        },
        "id": "TULkQQKkh1bK",
        "outputId": "46ef86e2-dec6-4299-b3f0-4faf6dc693fb"
      },
      "source": [
        "sns.histplot(log_scores,bins=10, color='#8FB9AA', alpha=0.7,edgecolor='black', linewidth=1, kde=True, stat=\"density\" );"
      ],
      "id": "TULkQQKkh1bK",
      "execution_count": null,
      "outputs": [
        {
          "output_type": "display_data",
          "data": {
            "image/png": "[encoded data removed]",
            "text/plain": [
              "<Figure size 432x288 with 1 Axes>"
            ]
          },
          "metadata": {
            "needs_background": "light"
          }
        }
      ]
    },
    {
      "cell_type": "code",
      "metadata": {
        "colab": {
          "base_uri": "https://localhost:8080/"
        },
        "id": "AgMwc4BHe6mP",
        "outputId": "fba3780a-5c5b-4b2b-8186-cafd61a41b6c"
      },
      "source": [
        "avg_log=sum(log_scores)/len(log_scores)\n",
        "print('Accuracy of Logistic Regression (One Feature) of 1000 iterations = {}%'.format(np.round(avg_log,2)))"
      ],
      "id": "AgMwc4BHe6mP",
      "execution_count": null,
      "outputs": [
        {
          "output_type": "stream",
          "name": "stdout",
          "text": [
            "Accuracy of Logistic Regression (One Feature) of 1000 iterations = 81.36%\n"
          ]
        }
      ]
    },
    {
      "cell_type": "markdown",
      "metadata": {
        "id": "4y7XZ1Ybg-1h"
      },
      "source": [
        "#### KNeighborsClassifier:"
      ],
      "id": "4y7XZ1Ybg-1h"
    },
    {
      "cell_type": "code",
      "metadata": {
        "colab": {
          "base_uri": "https://localhost:8080/",
          "height": 265
        },
        "id": "avzC9CdkhEqL",
        "outputId": "c2de79ab-7824-42de-933a-884988ac934b"
      },
      "source": [
        "sns.histplot(knn_scores,bins=10, color='#CD7672', alpha=0.7,edgecolor='black', linewidth=1, kde=True, stat=\"density\" );"
      ],
      "id": "avzC9CdkhEqL",
      "execution_count": null,
      "outputs": [
        {
          "output_type": "display_data",
          "data": {
            "image/png": "[encoded data removed]",
            "text/plain": [
              "<Figure size 432x288 with 1 Axes>"
            ]
          },
          "metadata": {
            "needs_background": "light"
          }
        }
      ]
    },
    {
      "cell_type": "code",
      "metadata": {
        "colab": {
          "base_uri": "https://localhost:8080/"
        },
        "id": "NW_TWIqterZJ",
        "outputId": "67fb1274-3358-4eef-ff86-62d42dd0b4a7"
      },
      "source": [
        "knn_avg= sum(knn_scores)/len(knn_scores)\n",
        "print('Accuracy of KNeighborsClassifier (One Feature) of 1000 iterations = {}%'.format(np.round(knn_avg,2)))"
      ],
      "id": "NW_TWIqterZJ",
      "execution_count": null,
      "outputs": [
        {
          "output_type": "stream",
          "name": "stdout",
          "text": [
            "Accuracy of KNeighborsClassifier (One Feature) of 1000 iterations = 79.5%\n"
          ]
        }
      ]
    },
    {
      "cell_type": "markdown",
      "metadata": {
        "id": "2qccX3PZSQL7"
      },
      "source": [
        "#### Decision Tree Classifier:"
      ],
      "id": "2qccX3PZSQL7"
    },
    {
      "cell_type": "code",
      "metadata": {
        "colab": {
          "base_uri": "https://localhost:8080/",
          "height": 265
        },
        "id": "CVHrOxijSQL7",
        "outputId": "b0d1e18e-6f3d-4243-f1b3-dc11d1eb90ff"
      },
      "source": [
        "sns.histplot(dtree_scores,bins=10, color='#CDB272', alpha=0.7,edgecolor='black', linewidth=1, kde=True, stat=\"density\" );"
      ],
      "id": "CVHrOxijSQL7",
      "execution_count": null,
      "outputs": [
        {
          "output_type": "display_data",
          "data": {
            "image/png": "[encoded data removed]",
            "text/plain": [
              "<Figure size 432x288 with 1 Axes>"
            ]
          },
          "metadata": {
            "needs_background": "light"
          }
        }
      ]
    },
    {
      "cell_type": "code",
      "metadata": {
        "colab": {
          "base_uri": "https://localhost:8080/"
        },
        "id": "e1TW52ppSQL7",
        "outputId": "301b4541-ba0f-4028-8a7c-f7aaf079000c"
      },
      "source": [
        "avg_dtree=sum(dtree_scores)/len(dtree_scores)\n",
        "print('Accuracy of Decision Tree Classifier (One Feature) of 1000 iterations = {}%'.format(np.round(avg_dtree,2)))"
      ],
      "id": "e1TW52ppSQL7",
      "execution_count": null,
      "outputs": [
        {
          "output_type": "stream",
          "name": "stdout",
          "text": [
            "Accuracy of Decision Tree Classifier (One Feature) of 1000 iterations = 72.48%\n"
          ]
        }
      ]
    },
    {
      "cell_type": "markdown",
      "metadata": {
        "id": "Ud73oaMxS1Pa"
      },
      "source": [
        "#### Extra Tree Classifier:"
      ],
      "id": "Ud73oaMxS1Pa"
    },
    {
      "cell_type": "code",
      "metadata": {
        "colab": {
          "base_uri": "https://localhost:8080/",
          "height": 265
        },
        "id": "6aVR9_bXS1Pb",
        "outputId": "170403cd-5440-4287-ff2a-0e1f3c077a3f"
      },
      "source": [
        "sns.histplot(extratree_scores,bins=10, color='#8FB9AA', alpha=0.7,edgecolor='black', linewidth=1, kde=True, stat=\"density\" );"
      ],
      "id": "6aVR9_bXS1Pb",
      "execution_count": null,
      "outputs": [
        {
          "output_type": "display_data",
          "data": {
            "image/png": "[encoded data removed]",
            "text/plain": [
              "<Figure size 432x288 with 1 Axes>"
            ]
          },
          "metadata": {
            "needs_background": "light"
          }
        }
      ]
    },
    {
      "cell_type": "code",
      "metadata": {
        "colab": {
          "base_uri": "https://localhost:8080/"
        },
        "id": "zbahPiisS1Pb",
        "outputId": "aeb4bc8c-715e-4382-ea8e-1e57eed2984b"
      },
      "source": [
        "avg_extratree=sum(extratree_scores)/len(extratree_scores)\n",
        "print('Accuracy of Extra Tree Classifier (One Feature) of 1000 iterations = {}%'.format(np.round(avg_extratree,2)))"
      ],
      "id": "zbahPiisS1Pb",
      "execution_count": null,
      "outputs": [
        {
          "output_type": "stream",
          "name": "stdout",
          "text": [
            "Accuracy of Extra Tree Classifier (One Feature) of 1000 iterations = 72.39%\n"
          ]
        }
      ]
    },
    {
      "cell_type": "markdown",
      "metadata": {
        "id": "MLRwTeHUTJiI"
      },
      "source": [
        "#### Random Forest Classifier:"
      ],
      "id": "MLRwTeHUTJiI"
    },
    {
      "cell_type": "code",
      "metadata": {
        "colab": {
          "base_uri": "https://localhost:8080/",
          "height": 265
        },
        "id": "HN_5fPaxTJiJ",
        "outputId": "b9daa76f-d3a6-4fea-f7f5-47751406a105"
      },
      "source": [
        "sns.histplot(rf_scores,bins=10, color='#8FB9AA', alpha=0.7,edgecolor='black', linewidth=1, kde=True, stat=\"density\" );"
      ],
      "id": "HN_5fPaxTJiJ",
      "execution_count": null,
      "outputs": [
        {
          "output_type": "display_data",
          "data": {
            "image/png": "[encoded data removed]",
            "text/plain": [
              "<Figure size 432x288 with 1 Axes>"
            ]
          },
          "metadata": {
            "needs_background": "light"
          }
        }
      ]
    },
    {
      "cell_type": "code",
      "metadata": {
        "colab": {
          "base_uri": "https://localhost:8080/"
        },
        "id": "BxHlDyHRTJiJ",
        "outputId": "eecfc3ad-c682-4f79-bd4d-fb3a07b688fc"
      },
      "source": [
        "avg_rf=sum(rf_scores)/len(rf_scores)\n",
        "print('Accuracy of Random Forest Classifier (One Feature) of 1000 iterations = {}%'.format(np.round(avg_rf,2)))"
      ],
      "id": "BxHlDyHRTJiJ",
      "execution_count": null,
      "outputs": [
        {
          "output_type": "stream",
          "name": "stdout",
          "text": [
            "Accuracy of Random Forest Classifier (One Feature) of 1000 iterations = 72.56%\n"
          ]
        }
      ]
    },
    {
      "cell_type": "markdown",
      "metadata": {
        "id": "PPXevn_tZAYN"
      },
      "source": [
        "## Findings and Observations"
      ],
      "id": "PPXevn_tZAYN"
    },
    {
      "cell_type": "markdown",
      "metadata": {
        "id": "9jGdcjw369RS"
      },
      "source": [
        "#### 1) Research Questions:"
      ],
      "id": "9jGdcjw369RS"
    },
    {
      "cell_type": "markdown",
      "metadata": {
        "id": "uIVgwfcoZJzP"
      },
      "source": [
        "- Q1: Does heart attack only attack the old people?\n",
        " - there's no obvious relation between getting old and being susceptible to have heart attack\n",
        "- Q3: Does heart attack get males more than females?\n",
        " -  No, according to this dataset ,which is too small, Females are susceptible to get a heart attack than males \n",
        "- Does having these syndromes (Exercise induced angina - Maximum heart rate achieved - Chest pain - Number of major vessels) means that the person is suffering from heart attack?\n",
        " - Yes, it seems that it's a strong inficator of getting heart attack by the following relation: \n",
        " -- The less (excercise exerted - number of major vessels) than normal person, the person is more susceptible to have a heart attack [Inversely Propotional]\n",
        " -- The more (Maximum heart rate achieved - Chest pain) than normal person, the person is more susceptible to have a heart attack [Propotional]"
      ],
      "id": "uIVgwfcoZJzP"
    },
    {
      "cell_type": "markdown",
      "metadata": {
        "id": "hlmySjtp7HTx"
      },
      "source": [
        "#### 2) Findings:"
      ],
      "id": "hlmySjtp7HTx"
    },
    {
      "cell_type": "markdown",
      "metadata": {
        "id": "4lH__GGAJEPo"
      },
      "source": [
        "- Data hadn't any missing values, and there were one duplicate sample which is re,moved in EDA part"
      ],
      "id": "4lH__GGAJEPo"
    },
    {
      "cell_type": "markdown",
      "metadata": {
        "id": "L2FNG2njFODs"
      },
      "source": [
        "**Using only one features in the training data, the accuracy of models on test data (selected randomly) in 1000 iterations are:**\n",
        "- **Logistic Regression:** 81.36%\n",
        "- **KNeighborsClassifier:** 79.5% \n",
        "- **Decision Tree Classifier:** 72.48%\n",
        "- **Extra Tree Classifier:** 72.39%\n",
        "- **Random Forest Classifier:** 72.56%"
      ],
      "id": "L2FNG2njFODs"
    },
    {
      "cell_type": "markdown",
      "metadata": {
        "id": "v-NXh_tWZDH1"
      },
      "source": [
        "## Dataset Limitations"
      ],
      "id": "v-NXh_tWZDH1"
    },
    {
      "cell_type": "markdown",
      "metadata": {
        "id": "CqSCVGJ-ZKP7"
      },
      "source": [
        "- Dataset is too small, accordingly any visual might not represent (or similar to) the population of people \n",
        "- Bias in gender, where men samples are almost twice of women samples\n",
        "- There are another indicators that affect directly or indirectly on getting heart attack, so the major 6 indicators that affect in the data is not efficient to have a good accuracy in predicting."
      ],
      "id": "CqSCVGJ-ZKP7"
    }
  ]
}