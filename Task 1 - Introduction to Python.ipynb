{
  "nbformat": 4,
  "nbformat_minor": 0,
  "metadata": {
    "colab": {
      "name": "Copy of Copy of Lab_1_Tasks.ipynb",
      "provenance": [],
      "collapsed_sections": []
    },
    "kernelspec": {
      "display_name": "Python 3",
      "language": "python",
      "name": "python3"
    },
    "language_info": {
      "codemirror_mode": {
        "name": "ipython",
        "version": 3
      },
      "file_extension": ".py",
      "mimetype": "text/x-python",
      "name": "python",
      "nbconvert_exporter": "python",
      "pygments_lexer": "ipython3",
      "version": "3.8.8"
    }
  },
  "cells": [
    {
      "cell_type": "code",
      "metadata": {
        "id": "9yU43CBdiWye"
      },
      "source": [
        "#Importing Libraries Needed\n",
        "import collections\n",
        "import math\n",
        "import random\n",
        "import pandas as pd\n",
        "import matplotlib.pyplot as plt\n",
        "import numpy as np"
      ],
      "execution_count": null,
      "outputs": []
    },
    {
      "cell_type": "markdown",
      "metadata": {
        "id": "6i9U9zDL6uL2"
      },
      "source": [
        "# **Task 1 - Python** "
      ]
    },
    {
      "cell_type": "markdown",
      "metadata": {
        "id": "NO7Y7edp6y7X"
      },
      "source": [
        "Write a function that takes a list of numbers as an input and counts the number of occurrences of each number in the list. <br>  The output should be a dictionary whose keys are the numbers. For each key, the corresponding value should be its number of occurrences.\n",
        "<br> For example, if the input is [1, 5, 1, 2, 2, 3, 4, 4], the output should be {'1': 2, '2': 2, '3': 1, '4': 2, '5':1}"
      ]
    },
    {
      "cell_type": "code",
      "metadata": {
        "id": "qAdmMDgQ8GQh",
        "colab": {
          "base_uri": "https://localhost:8080/"
        },
        "outputId": "742f5f55-750f-44df-b009-291c329c24b6"
      },
      "source": [
        "#CODE\n",
        "def numbers_count(input_list):\n",
        "  my_dict={}\n",
        "  for item, count in collections.Counter(input_list).items():\n",
        "    my_dict[str(item)]=count\n",
        "  output_dict = dict(sorted(my_dict.items(), key = lambda x:x[0]))\n",
        "  return output_dict\n",
        "#TEST\n",
        "numbers_count([1, 5, 1, 2, 2, 3, 4, 4])"
      ],
      "execution_count": null,
      "outputs": [
        {
          "output_type": "execute_result",
          "data": {
            "text/plain": [
              "{'1': 2, '2': 2, '3': 1, '4': 2, '5': 1}"
            ]
          },
          "metadata": {},
          "execution_count": 3
        }
      ]
    },
    {
      "cell_type": "markdown",
      "metadata": {
        "id": "C0JkNIcGPNtp"
      },
      "source": [
        "# Task 2 - Data Manipulation"
      ]
    },
    {
      "cell_type": "markdown",
      "metadata": {
        "id": "fSKDJIdCPNtp"
      },
      "source": [
        "Provide info about [this](https://www.kaggle.com/shivamb/netflix-shows) dataset:\n",
        "1. How many rows, columns?\n",
        "2. How many null values?\n",
        "3. Are there any duplicates?\n",
        "4. Visualize the show types using a suitable plot."
      ]
    },
    {
      "cell_type": "code",
      "metadata": {
        "colab": {
          "base_uri": "https://localhost:8080/",
          "height": 344
        },
        "id": "44H3sfpkk4kV",
        "outputId": "a7979fb5-49a1-4dad-abb9-b9ec54d315fe"
      },
      "source": [
        "netflix_df= pd.read_csv('netflix_titles.csv')\n",
        "netflix_df.head()"
      ],
      "execution_count": null,
      "outputs": [
        {
          "output_type": "execute_result",
          "data": {
            "text/html": [
              "<div>\n",
              "<style scoped>\n",
              "    .dataframe tbody tr th:only-of-type {\n",
              "        vertical-align: middle;\n",
              "    }\n",
              "\n",
              "    .dataframe tbody tr th {\n",
              "        vertical-align: top;\n",
              "    }\n",
              "\n",
              "    .dataframe thead th {\n",
              "        text-align: right;\n",
              "    }\n",
              "</style>\n",
              "<table border=\"1\" class=\"dataframe\">\n",
              "  <thead>\n",
              "    <tr style=\"text-align: right;\">\n",
              "      <th></th>\n",
              "      <th>show_id</th>\n",
              "      <th>type</th>\n",
              "      <th>title</th>\n",
              "      <th>director</th>\n",
              "      <th>cast</th>\n",
              "      <th>country</th>\n",
              "      <th>date_added</th>\n",
              "      <th>release_year</th>\n",
              "      <th>rating</th>\n",
              "      <th>duration</th>\n",
              "      <th>listed_in</th>\n",
              "      <th>description</th>\n",
              "    </tr>\n",
              "  </thead>\n",
              "  <tbody>\n",
              "    <tr>\n",
              "      <th>0</th>\n",
              "      <td>s1</td>\n",
              "      <td>Movie</td>\n",
              "      <td>Dick Johnson Is Dead</td>\n",
              "      <td>Kirsten Johnson</td>\n",
              "      <td>NaN</td>\n",
              "      <td>United States</td>\n",
              "      <td>September 25, 2021</td>\n",
              "      <td>2020</td>\n",
              "      <td>PG-13</td>\n",
              "      <td>90 min</td>\n",
              "      <td>Documentaries</td>\n",
              "      <td>As her father nears the end of his life, filmm...</td>\n",
              "    </tr>\n",
              "    <tr>\n",
              "      <th>1</th>\n",
              "      <td>s2</td>\n",
              "      <td>TV Show</td>\n",
              "      <td>Blood &amp; Water</td>\n",
              "      <td>NaN</td>\n",
              "      <td>Ama Qamata, Khosi Ngema, Gail Mabalane, Thaban...</td>\n",
              "      <td>South Africa</td>\n",
              "      <td>September 24, 2021</td>\n",
              "      <td>2021</td>\n",
              "      <td>TV-MA</td>\n",
              "      <td>2 Seasons</td>\n",
              "      <td>International TV Shows, TV Dramas, TV Mysteries</td>\n",
              "      <td>After crossing paths at a party, a Cape Town t...</td>\n",
              "    </tr>\n",
              "    <tr>\n",
              "      <th>2</th>\n",
              "      <td>s3</td>\n",
              "      <td>TV Show</td>\n",
              "      <td>Ganglands</td>\n",
              "      <td>Julien Leclercq</td>\n",
              "      <td>Sami Bouajila, Tracy Gotoas, Samuel Jouy, Nabi...</td>\n",
              "      <td>NaN</td>\n",
              "      <td>September 24, 2021</td>\n",
              "      <td>2021</td>\n",
              "      <td>TV-MA</td>\n",
              "      <td>1 Season</td>\n",
              "      <td>Crime TV Shows, International TV Shows, TV Act...</td>\n",
              "      <td>To protect his family from a powerful drug lor...</td>\n",
              "    </tr>\n",
              "    <tr>\n",
              "      <th>3</th>\n",
              "      <td>s4</td>\n",
              "      <td>TV Show</td>\n",
              "      <td>Jailbirds New Orleans</td>\n",
              "      <td>NaN</td>\n",
              "      <td>NaN</td>\n",
              "      <td>NaN</td>\n",
              "      <td>September 24, 2021</td>\n",
              "      <td>2021</td>\n",
              "      <td>TV-MA</td>\n",
              "      <td>1 Season</td>\n",
              "      <td>Docuseries, Reality TV</td>\n",
              "      <td>Feuds, flirtations and toilet talk go down amo...</td>\n",
              "    </tr>\n",
              "    <tr>\n",
              "      <th>4</th>\n",
              "      <td>s5</td>\n",
              "      <td>TV Show</td>\n",
              "      <td>Kota Factory</td>\n",
              "      <td>NaN</td>\n",
              "      <td>Mayur More, Jitendra Kumar, Ranjan Raj, Alam K...</td>\n",
              "      <td>India</td>\n",
              "      <td>September 24, 2021</td>\n",
              "      <td>2021</td>\n",
              "      <td>TV-MA</td>\n",
              "      <td>2 Seasons</td>\n",
              "      <td>International TV Shows, Romantic TV Shows, TV ...</td>\n",
              "      <td>In a city of coaching centers known to train I...</td>\n",
              "    </tr>\n",
              "  </tbody>\n",
              "</table>\n",
              "</div>"
            ],
            "text/plain": [
              "  show_id  ...                                        description\n",
              "0      s1  ...  As her father nears the end of his life, filmm...\n",
              "1      s2  ...  After crossing paths at a party, a Cape Town t...\n",
              "2      s3  ...  To protect his family from a powerful drug lor...\n",
              "3      s4  ...  Feuds, flirtations and toilet talk go down amo...\n",
              "4      s5  ...  In a city of coaching centers known to train I...\n",
              "\n",
              "[5 rows x 12 columns]"
            ]
          },
          "metadata": {},
          "execution_count": 6
        }
      ]
    },
    {
      "cell_type": "code",
      "metadata": {
        "colab": {
          "base_uri": "https://localhost:8080/"
        },
        "id": "cqFR1jXzlKF6",
        "outputId": "f46f42a4-0cb4-4915-bfd9-f19ac20042c4"
      },
      "source": [
        "#TEST\n",
        "netflix_df.shape"
      ],
      "execution_count": null,
      "outputs": [
        {
          "output_type": "execute_result",
          "data": {
            "text/plain": [
              "(8807, 12)"
            ]
          },
          "metadata": {},
          "execution_count": 9
        }
      ]
    },
    {
      "cell_type": "markdown",
      "metadata": {
        "id": "l7O60MYeyBqH"
      },
      "source": [
        "**Rows:** 8807\n",
        "\n",
        "**Columns:** 12"
      ]
    },
    {
      "cell_type": "code",
      "metadata": {
        "colab": {
          "base_uri": "https://localhost:8080/"
        },
        "id": "f1p0Vn2QlNWR",
        "outputId": "6ef15997-5937-46aa-96bf-7c8c1f6169c4"
      },
      "source": [
        "#TEST\n",
        "netflix_df.isnull().sum().sum()"
      ],
      "execution_count": null,
      "outputs": [
        {
          "output_type": "execute_result",
          "data": {
            "text/plain": [
              "4307"
            ]
          },
          "metadata": {},
          "execution_count": 10
        }
      ]
    },
    {
      "cell_type": "markdown",
      "metadata": {
        "id": "63uirEBTyPtD"
      },
      "source": [
        "**Null values number:** 4307"
      ]
    },
    {
      "cell_type": "code",
      "metadata": {
        "colab": {
          "base_uri": "https://localhost:8080/"
        },
        "id": "UbWahj5ElSy2",
        "outputId": "7b995223-3216-402d-8105-4695b121e62d"
      },
      "source": [
        "#TEST\n",
        "netflix_df.duplicated().sum()"
      ],
      "execution_count": null,
      "outputs": [
        {
          "output_type": "execute_result",
          "data": {
            "text/plain": [
              "0"
            ]
          },
          "metadata": {},
          "execution_count": 119
        }
      ]
    },
    {
      "cell_type": "markdown",
      "metadata": {
        "id": "KukzIHqIyVXR"
      },
      "source": [
        "**There's no duplicates in data**"
      ]
    },
    {
      "cell_type": "code",
      "metadata": {
        "colab": {
          "base_uri": "https://localhost:8080/",
          "height": 264
        },
        "id": "c7C4DVC_quSh",
        "outputId": "2a8c7ef0-f67b-43ee-8071-5e931ea77f3f"
      },
      "source": [
        "percentage = netflix_df['type'].value_counts()\n",
        "mylabels = netflix_df['type'].unique()\n",
        "plt.pie(percentage, labels = mylabels, explode = [0.2, 0], shadow = True)\n",
        "plt.title('Netflix shows types distribution')\n",
        "plt.show() "
      ],
      "execution_count": null,
      "outputs": [
        {
          "output_type": "display_data",
          "data": {
            "image/png": "[encoded data removed]",
            "text/plain": [
              "<Figure size 432x288 with 1 Axes>"
            ]
          },
          "metadata": {}
        }
      ]
    },
    {
      "cell_type": "markdown",
      "metadata": {
        "id": "5Tk3jVewrELk"
      },
      "source": [
        "# **Task 3 - Bonus** \n",
        "### This task was prepared by Eng. Muhammad Al Aref"
      ]
    },
    {
      "cell_type": "markdown",
      "metadata": {
        "id": "XDdByhPiNmnn"
      },
      "source": [
        "Now let's use what we learned so far to *estimate $\\pi$*!"
      ]
    },
    {
      "cell_type": "markdown",
      "metadata": {
        "id": "vA6-s3c-rNsL"
      },
      "source": [
        "Consider a dart board shaped like a circle enclosed by a square and you are throwing darts at it. You are very good and you never land a dart off the square but you are not aiming for anything in particular inside it, so a dart has an equal chance of falling anywhere inside the square!"
      ]
    },
    {
      "cell_type": "markdown",
      "metadata": {
        "id": "qkZemnCP3b84"
      },
      "source": [
        "Then, the chance of a dart to fall inside the circle is the ratio of the circle area to the square area. $$p(circle) = \\dfrac{circle\\ area}{square\\ area} = \\dfrac{\\pi r^2}{(2r)^2} = \\dfrac{\\pi}{4}$$ This means that $$\\pi = 4 * p(circle)$$\n",
        "\n",
        "Now, the remaining question is, how do we estimate the probability? We can do that by simulating random thrown darts, counting the ones that land inside the circle and divide that by the total number of thrown darts!\n",
        "\n",
        "$$p(circle) = \\dfrac{number\\ of\\ darts\\ inside\\ the\\ circle}{total\\ number\\ of\\ darts}$$\n",
        "\n",
        "That way of estimating probabilites is called *Monte Carlo* simulation. <br>\n",
        "Hint: Use Python's `Random` Library"
      ]
    },
    {
      "cell_type": "markdown",
      "metadata": {
        "id": "8FIyt73RlyBB"
      },
      "source": [
        "![empty(3).png](data:image/png;base64,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)![nonempty(3).png](data:image/png;base64,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)"
      ]
    },
    {
      "cell_type": "code",
      "metadata": {
        "id": "SdNS3KV4iGNJ"
      },
      "source": [
        "from math import pi as original_pi\n",
        "def CircleProb(x,y):\n",
        "  c=0\n",
        "  for i in range(len(x)):\n",
        "    if math.sqrt(x[i]**2 + y[i]**2) <= 1.0:\n",
        "      c+=1\n",
        "  allpts=len(x)\n",
        "  probability=c/allpts\n",
        "  calc_pi=4*probability\n",
        "  error=100*abs(original_pi-calc_pi)/original_pi\n",
        "  return allpts,c,probability,calc_pi,error"
      ],
      "execution_count": null,
      "outputs": []
    },
    {
      "cell_type": "code",
      "metadata": {
        "colab": {
          "base_uri": "https://localhost:8080/"
        },
        "id": "_vYkEZKmyrqM",
        "outputId": "df2c9cfc-763b-4651-f681-a3354fe8acd2"
      },
      "source": [
        "x = [random.uniform(-1, 1) for _ in range(1000)]\n",
        "y = [random.uniform(-1, 1) for _ in range(1000)]\n",
        "allpts,c,probability,calc_pi,error= CircleProb(x,y)\n",
        "print(\"The number of total points is: {}  and number of points inside the circle: {} with probability: {} and Pi values is: {} with an error: {}% \".format(allpts,c,probability,calc_pi,error))"
      ],
      "execution_count": null,
      "outputs": [
        {
          "output_type": "stream",
          "name": "stdout",
          "text": [
            "The number of total points is: 1000  and number of points inside the circle: 774 with probability: 0.774 and Pi values is: 3.096 with an error: 1.4512592374984015% \n"
          ]
        }
      ]
    },
    {
      "cell_type": "markdown",
      "metadata": {
        "id": "WwwBOc2JRHBu"
      },
      "source": [
        "Increasing number of points increases the accuracy of the Pi constant as shown below\n"
      ]
    },
    {
      "cell_type": "code",
      "metadata": {
        "id": "GOV6F4owQSj_",
        "colab": {
          "base_uri": "https://localhost:8080/"
        },
        "outputId": "f81a5213-f402-4d1d-a191-d48d57e5006c"
      },
      "source": [
        "new_x = [random.uniform(-1, 1) for _ in range(10000)]\n",
        "new_y = [random.uniform(-1, 1) for _ in range(10000)]\n",
        "allpts2,c2,probability2,calc_pi2,error2= CircleProb(new_x,new_y)\n",
        "print(\"The number of total points is: {}  and number of points inside the circle: {} with probability: {} and Pi values is: {} with an error: {}%\".format(allpts2,c2,probability2,calc_pi2,error2))"
      ],
      "execution_count": null,
      "outputs": [
        {
          "output_type": "stream",
          "name": "stdout",
          "text": [
            "The number of total points is: 10000  and number of points inside the circle: 7833 with probability: 0.7833 and Pi values is: 3.1332 with an error: 0.2671464608947034%\n"
          ]
        }
      ]
    }
  ]
}